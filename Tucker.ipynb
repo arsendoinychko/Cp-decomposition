{
  "nbformat": 4,
  "nbformat_minor": 0,
  "metadata": {
    "colab": {
      "provenance": [],
      "authorship_tag": "ABX9TyMy2ycE24MSyJFrfOFMb6G9",
      "include_colab_link": true
    },
    "kernelspec": {
      "name": "python3",
      "display_name": "Python 3"
    },
    "language_info": {
      "name": "python"
    }
  },
  "cells": [
    {
      "cell_type": "markdown",
      "metadata": {
        "id": "view-in-github",
        "colab_type": "text"
      },
      "source": [
        "<a href=\"https://colab.research.google.com/github/arsendoinychko/Cp-decomposition/blob/main/Tucker.ipynb\" target=\"_parent\"><img src=\"https://colab.research.google.com/assets/colab-badge.svg\" alt=\"Open In Colab\"/></a>"
      ]
    },
    {
      "cell_type": "code",
      "execution_count": null,
      "metadata": {
        "id": "uFsuNprZ37MJ"
      },
      "outputs": [],
      "source": [
        "import torch\n",
        "import torch.nn as nn\n",
        "import torch.optim as optim\n",
        "import torchvision\n",
        "import torchvision.transforms as transforms\n",
        "from torch.utils.data import DataLoader\n",
        "import time\n",
        "\n",
        "# Hyperparameters\n",
        "batch_size = 64\n",
        "learning_rate = 0.001\n",
        "num_epochs = 2\n",
        "\n",
        "# Loading and normalizing CIFAR-10 dataset\n",
        "transform = transforms.Compose([\n",
        "    transforms.Resize((224, 224)),\n",
        "    transforms.ToTensor(),\n",
        "    transforms.Normalize((0.5, 0.5, 0.5), (0.5, 0.5, 0.5))\n",
        "])\n",
        "\n",
        "train_dataset = torchvision.datasets.CIFAR10(root='./data', train=True, download=True, transform=transform)\n",
        "train_loader = DataLoader(train_dataset, batch_size=batch_size, shuffle=True)\n",
        "\n",
        "test_dataset = torchvision.datasets.CIFAR10(root='./data', train=False, download=True, transform=transform)\n",
        "test_loader = DataLoader(test_dataset, batch_size=batch_size, shuffle=False)\n",
        "\n",
        "# Loading the pre-trained VGG-16 and modifying it for 10 classes of CIFAR-10\n",
        "class ModifiedVGG16(nn.Module):\n",
        "    def __init__(self):\n",
        "        super(ModifiedVGG16, self).__init__()\n",
        "        self.vgg16 = torchvision.models.vgg16(pretrained=True)\n",
        "        self.vgg16.classifier[6] = nn.Linear(4096, 10)  # Змінюємо останній повнозв'язний шар на 10 виходів\n",
        "\n",
        "    def forward(self, x):\n",
        "        x = self.vgg16(x)\n",
        "        return x\n",
        "\n",
        "# Initializing the model, loss function, and optimizer\n",
        "device = torch.device('cuda' if torch.cuda.is_available() else 'cpu')\n",
        "model = ModifiedVGG16()\n",
        "\n",
        "# Using multiple GPUs if available\n",
        "if torch.cuda.device_count() > 1:\n",
        "    print(f'Using {torch.cuda.device_count()} GPUs!')\n",
        "    model = nn.DataParallel(model)\n",
        "\n",
        "model = model.to(device)\n",
        "criterion = nn.CrossEntropyLoss()\n",
        "optimizer = optim.Adam(model.parameters(), lr=learning_rate)\n",
        "\n",
        "# Training the model\n",
        "for epoch in range(num_epochs):\n",
        "    start_time = time.time()\n",
        "    running_loss = 0.0\n",
        "    model.train()\n",
        "    for i, (inputs, labels) in enumerate(train_loader):\n",
        "        inputs, labels = inputs.to(device), labels.to(device)\n",
        "        optimizer.zero_grad()\n",
        "        outputs = model(inputs)\n",
        "        loss = criterion(outputs, labels)\n",
        "        loss.backward()\n",
        "        optimizer.step()\n",
        "\n",
        "        running_loss += loss.item()\n",
        "        if i % 100 == 99:\n",
        "            print(f'Epoch [{epoch + 1}/{num_epochs}], Step [{i + 1}/{len(train_loader)}], Loss: {running_loss / 100:.4f}')\n",
        "            running_loss = 0.0\n",
        "    epoch_duration = time.time() - start_time\n",
        "    print(f'Epoch [{epoch + 1}/{num_epochs}] completed in {epoch_duration:.2f} seconds')\n",
        "\n",
        "print('Finished Training')\n",
        "\n",
        "# Testing the model\n",
        "model.eval()\n",
        "correct = 0\n",
        "total = 0\n",
        "with torch.no_grad():\n",
        "    for inputs, labels in test_loader:\n",
        "        inputs, labels = inputs.to(device), labels.to(device)\n",
        "        outputs = model(inputs)\n",
        "        _, predicted = torch.max(outputs.data, 1)\n",
        "        total += labels.size(0)\n",
        "        correct += (predicted == labels).sum().item()\n",
        "\n",
        "print(f'Accuracy of the network on the 10000 test images: {100 * correct / total:.2f}%')\n",
        "\n",
        "# Saving the model\n",
        "torch.save(model.state_dict(), 'vgg16_cifar10_model.pth')"
      ]
    },
    {
      "cell_type": "code",
      "source": [
        "# Testing the model\n",
        "model.eval()\n",
        "correct = 0\n",
        "total = 0\n",
        "with torch.no_grad():\n",
        "    for inputs, labels in test_loader:\n",
        "        inputs, labels = inputs.to(device), labels.to(device)\n",
        "        outputs = model(inputs)\n",
        "        _, predicted = torch.max(outputs.data, 1)\n",
        "        total += labels.size(0)\n",
        "        correct += (predicted == labels).sum().item()\n",
        "\n",
        "print(f'Accuracy of the network on the 10000 test images: {100 * correct / total:.2f}%')\n",
        "\n",
        "# Saving the model\n",
        "torch.save(model.state_dict(), 'vgg16_cifar10_model.pth')"
      ],
      "metadata": {
        "id": "H3jZedHA4lcU"
      },
      "execution_count": null,
      "outputs": []
    },
    {
      "cell_type": "code",
      "source": [
        "print(model)"
      ],
      "metadata": {
        "id": "d9n8xCYs4nZB"
      },
      "execution_count": null,
      "outputs": []
    },
    {
      "cell_type": "code",
      "source": [
        "if isinstance(model, nn.DataParallel):\n",
        "    model = model.module\n",
        "\n",
        "conv_layer1 = model.vgg16.features[0]\n",
        "conv_layer2 = model.vgg16.features[2]\n",
        "conv_layer3 = model.vgg16.features[5]\n",
        "conv_layer4 = model.vgg16.features[7]\n",
        "conv_layer5 = model.vgg16.features[10]\n",
        "conv_layer6 = model.vgg16.features[12]\n",
        "conv_layer7 = model.vgg16.features[14]\n",
        "conv_layer8 = model.vgg16.features[17]\n",
        "conv_layer9 = model.vgg16.features[19]\n",
        "conv_layer10 = model.vgg16.features[21]\n",
        "conv_layer11 = model.vgg16.features[24]\n",
        "conv_layer12 = model.vgg16.features[26]\n",
        "conv_layer13 = model.vgg16.features[28]"
      ],
      "metadata": {
        "id": "cEiXBo_D4pVD"
      },
      "execution_count": null,
      "outputs": []
    },
    {
      "cell_type": "code",
      "source": [
        "import torch\n",
        "import torch.nn as nn\n",
        "from torch.autograd import Variable\n",
        "import tensorly as tl\n",
        "from tensorly.decomposition import tucker, partial_tucker\n",
        "\n",
        "def tucker(layer, rank):\n",
        "    W = layer.weight.data\n",
        "\n",
        "    core, [last, first] = partial_tucker(W, modes=[0,1], ranks=rank, init='svd')\n",
        "\n",
        "    first_layer = nn.Conv2d(in_channels=first.shape[0],\n",
        "                                       out_channels=first.shape[1],\n",
        "                                       kernel_size=1,\n",
        "                                       padding=0,\n",
        "                                       bias=False)\n",
        "\n",
        "    core_layer = nn.Conv2d(in_channels=core.shape[1],\n",
        "                                       out_channels=core.shape[0],\n",
        "                                       kernel_size=layer.kernel_size,\n",
        "                                       stride=layer.stride,\n",
        "                                       padding=layer.padding,\n",
        "                                       dilation=layer.dilation,\n",
        "                                       bias=False)\n",
        "\n",
        "    last_layer = nn.Conv2d(in_channels=last.shape[1],\n",
        "                                       out_channels=last.shape[0],\n",
        "                                       kernel_size=1,\n",
        "                                       padding=0,\n",
        "                                       bias=True)\n",
        "\n",
        "    if layer.bias is not None:\n",
        "        last_layer.bias.data = layer.bias.data\n",
        "\n",
        "    fk = first.t_().unsqueeze_(-1).unsqueeze_(-1)\n",
        "    lk = last.unsqueeze_(-1).unsqueeze_(-1)\n",
        "\n",
        "    first_layer.weight.data = fk\n",
        "    last_layer.weight.data = lk\n",
        "    core_layer.weight.data = core\n",
        "\n",
        "    new_layers = [first_layer, core_layer, last_layer]\n",
        "    return new_layers"
      ],
      "metadata": {
        "id": "CZv0te1O4rK9"
      },
      "execution_count": null,
      "outputs": []
    },
    {
      "cell_type": "code",
      "source": [
        "new_layers1 = tucker(conv_layer1.cpu())\n",
        "new_layers2 = tucker(conv_layer2.cpu())\n",
        "new_layers3 = tucker(conv_layer3.cpu())\n",
        "new_layers4 = tucker(conv_layer4.cpu())\n",
        "new_layers5 = tucker(conv_layer5.cpu())\n",
        "new_layers6 = tucker(conv_layer6.cpu())\n",
        "new_layers7 = tucker(conv_layer7.cpu())\n",
        "new_layers8 = tucker(conv_layer8.cpu())\n",
        "new_layers9 = tucker(conv_layer9.cpu())\n",
        "new_layers10 = tucker(conv_layer10.cpu())\n",
        "new_layers11 = tucker(conv_layer11.cpu())\n",
        "new_layers12 = tucker(conv_layer12.cpu())\n",
        "new_layers13 = tucker(conv_layer13.cpu())"
      ],
      "metadata": {
        "id": "QOsVeHmt43JY"
      },
      "execution_count": null,
      "outputs": []
    },
    {
      "cell_type": "code",
      "source": [
        "model.vgg16.features[0] = nn.Sequential(*new_layer1).cuda()\n",
        "model.vgg16.features[2] = nn.Sequential(*new_layer2).cuda()\n",
        "model.vgg16.features[5] = nn.Sequential(*new_layer3).cuda()\n",
        "model.vgg16.features[7] = nn.Sequential(*new_layer4).cuda()\n",
        "model.vgg16.features[10] = nn.Sequential(*new_layer5).cuda()\n",
        "model.vgg16.features[12] = nn.Sequential(*new_layer6).cuda()\n",
        "model.vgg16.features[14] = nn.Sequential(*new_layer7).cuda()\n",
        "model.vgg16.features[17] = nn.Sequential(*new_layer8).cuda()\n",
        "model.vgg16.features[19] = nn.Sequential(*new_layer9).cuda()\n",
        "model.vgg16.features[21] = nn.Sequential(*new_layer10).cuda()\n",
        "model.vgg16.features[24] = nn.Sequential(*new_layer11).cuda()\n",
        "model.vgg16.features[26] = nn.Sequential(*new_layer12).cuda()\n",
        "model.vgg16.features[28] = nn.Sequential(*new_layer13).cuda()"
      ],
      "metadata": {
        "id": "4lrvvxA7441t"
      },
      "execution_count": null,
      "outputs": []
    },
    {
      "cell_type": "code",
      "source": [
        "for epoch in range(num_epochs):\n",
        "    start_time = time.time()\n",
        "    running_loss = 0.0\n",
        "    model.train()\n",
        "    for i, (inputs, labels) in enumerate(train_loader):\n",
        "        inputs, labels = inputs.to(device), labels.to(device)\n",
        "        optimizer.zero_grad()\n",
        "        outputs = model(inputs)\n",
        "        loss = criterion(outputs, labels)\n",
        "        loss.backward()\n",
        "        optimizer.step()\n",
        "\n",
        "        running_loss += loss.item()\n",
        "        if i % 100 == 99:\n",
        "            print(f'Epoch [{epoch + 1}/{num_epochs}], Step [{i + 1}/{len(train_loader)}], Loss: {running_loss / 100:.4f}')\n",
        "            running_loss = 0.0\n",
        "    epoch_duration = time.time() - start_time\n",
        "    print(f'Epoch [{epoch + 1}/{num_epochs}] completed in {epoch_duration:.2f} seconds')\n",
        "\n",
        "print('Finished Training')"
      ],
      "metadata": {
        "id": "RVlYsWl856QI"
      },
      "execution_count": null,
      "outputs": []
    },
    {
      "cell_type": "code",
      "source": [
        "# Testing the model\n",
        "model.eval()\n",
        "correct = 0\n",
        "total = 0\n",
        "with torch.no_grad():\n",
        "    for inputs, labels in test_loader:\n",
        "        inputs, labels = inputs.to(device), labels.to(device)\n",
        "        outputs = model(inputs)\n",
        "        _, predicted = torch.max(outputs.data, 1)\n",
        "        total += labels.size(0)\n",
        "        correct += (predicted == labels).sum().item()\n",
        "\n",
        "print(f'Accuracy of the network on the 10000 test images: {100 * correct / total:.2f}%')\n",
        "\n",
        "# Saving the model\n",
        "torch.save(model.state_dict(), 'vgg16_cifar10_model.pth')"
      ],
      "metadata": {
        "id": "DIAH7TA66Ave"
      },
      "execution_count": null,
      "outputs": []
    }
  ]
}